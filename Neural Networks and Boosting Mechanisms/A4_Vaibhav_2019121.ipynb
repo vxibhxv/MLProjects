{
  "nbformat": 4,
  "nbformat_minor": 0,
  "metadata": {
    "colab": {
      "name": "A4_Vaibhav_2019121.ipynb",
      "provenance": [],
      "collapsed_sections": [
        "ydi-sd17JN7u"
      ]
    },
    "kernelspec": {
      "name": "python3",
      "display_name": "Python 3"
    },
    "language_info": {
      "name": "python"
    }
  },
  "cells": [
    {
      "cell_type": "code",
      "source": [
        "import numpy as np\n",
        "import matplotlib.pyplot as plt\n",
        "import pandas as pd\n",
        "from sklearn.tree import DecisionTreeRegressor\n",
        "from sklearn.metrics import accuracy_score"
      ],
      "metadata": {
        "id": "BK8CazabidI_"
      },
      "execution_count": 1,
      "outputs": []
    },
    {
      "cell_type": "code",
      "source": [
        "from google.colab import drive \n",
        "drive.mount('/content/drive')"
      ],
      "metadata": {
        "colab": {
          "base_uri": "https://localhost:8080/"
        },
        "id": "E31TRxNamILX",
        "outputId": "4df94a42-b711-4c3e-f164-3fba430f1702"
      },
      "execution_count": 3,
      "outputs": [
        {
          "output_type": "stream",
          "name": "stdout",
          "text": [
            "Mounted at /content/drive\n"
          ]
        }
      ]
    },
    {
      "cell_type": "markdown",
      "source": [
        "#Question 1 \n",
        "Gradient Boosting Classifier from Scratch\n",
        "\n",
        "\n"
      ],
      "metadata": {
        "id": "7bhLn75lhzpK"
      }
    },
    {
      "cell_type": "code",
      "source": [
        "#Loading the data\n",
        "from mlxtend.data import loadlocal_mnist\n",
        "x_train, train_labels = loadlocal_mnist(images_path='/content/drive/MyDrive/datadmg/mnist/train-images-idx3-ubyte', labels_path='/content/drive/MyDrive/datadmg/mnist/train-labels-idx1-ubyte')\n",
        "x_test, test_labels = loadlocal_mnist(images_path='/content/drive/MyDrive/datadmg/mnist/t10k-images-idx3-ubyte', labels_path='/content/drive/MyDrive/datadmg/mnist/t10k-labels-idx1-ubyte')\n",
        "print(x_train.shape)\n",
        "print(x_test.shape)"
      ],
      "metadata": {
        "id": "plZWS2UDiB9h",
        "colab": {
          "base_uri": "https://localhost:8080/"
        },
        "outputId": "e1176064-3952-441a-b48d-6f2bc72330cd"
      },
      "execution_count": 4,
      "outputs": [
        {
          "output_type": "stream",
          "name": "stdout",
          "text": [
            "(60000, 784)\n",
            "(10000, 784)\n"
          ]
        }
      ]
    },
    {
      "cell_type": "code",
      "source": [
        "def logistic(x):\n",
        "  return np.exp(x)/(1+np.exp(x))\n",
        "\n",
        "labels = np.arange(10)\n",
        "encoding = {}\n",
        "trees = {}\n",
        "step_prob = {}\n",
        "init_val = {}\n",
        "scores = {}\n",
        "for i in labels:\n",
        "  encoding[i] = []\n",
        "  trees[i] = []\n",
        "  step_prob[i] = []\n",
        "  init_val[i] = []\n",
        "  scores[i] = []\n",
        "\n",
        "cn = np.zeros(10)\n",
        "for train_labels in train_labels:\n",
        "  cn[train_labels]+=1\n",
        "  for i in labels:\n",
        "    if i == train_labels:\n",
        "      encoding[i].append(1)\n",
        "    else:\n",
        "      encoding[i].append(0)\n",
        "\n",
        "\n",
        "log_odds = {}\n",
        "priors = {}\n",
        "residuals = {}\n",
        "tot = len(train_labels)\n",
        "\n",
        "for i in labels:\n",
        "  log_odds[i] = np.log(cn[i]/(tot-cn[i]))\n",
        "  log_odds[i] = np.full(tot,log_odds[i])\n",
        "  priors[i] = logistic(log_odds[i])\n",
        "  init_val[i] = priors[i][0]\n",
        "\n",
        "lr = 0.1\n",
        "for i in range(5):\n",
        "  for l in labels:\n",
        "    err = encoding[l] - priors[l]\n",
        "    residuals[l] = err\n",
        "    dT = DecisionTreeRegressor(max_depth=1)\n",
        "    dT.fit(x_train,residuals[l])\n",
        "    trees[l].append(dT)\n",
        "    pred = trees[l][i].predict(x_test)\n",
        "\n",
        "    probs = np.unique(pred)\n",
        "    step_prob[l].append(probs)\n",
        "\n",
        "    score = [0,0]\n",
        "    denom= [0,0]\n",
        "    arr0 = []\n",
        "    arr1 = []\n",
        "\n",
        "    for k in range(pred.shape[0]):\n",
        "      if pred[k] == probs[0]:\n",
        "        score[0] += residuals[l][k]\n",
        "        arr0.append(priors[l][k])\n",
        "      else:\n",
        "        score[1] += residuals[l][k]\n",
        "        arr1.append(priors[l][k])\n",
        "    arr0 = np.array(arr0)\n",
        "    arr1 = np.array(arr1)\n",
        "    denom[0] = np.sum(np.multiply(arr0,1-arr0))\n",
        "    denom[1] = np.sum(np.multiply(arr1,1-arr1))\n",
        "    scores[l].append([score[0]/denom[0],score[1]/denom[1]])\n",
        "\n",
        "    for k in range(pred.shape[0]):\n",
        "      if(pred[k] == probs[0]):\n",
        "        log_odds[l][k] += lr*score[0]\n",
        "      else:\n",
        "        log_odds[l][k] += lr*score[1]\n",
        "    priors[l] = logistic(log_odds[l])"
      ],
      "metadata": {
        "id": "FGea-0jemZvb"
      },
      "execution_count": null,
      "outputs": []
    },
    {
      "cell_type": "code",
      "source": [
        "predict = []\n",
        "for i in range(x_test.shape[0]):\n",
        "  ans = init_val.copy()\n",
        "  for l in labels:\n",
        "    for j in range(len(trees[l])):\n",
        "      val = trees[l][j].predict([x_test[i]])[0]\n",
        "      pred = step_prob[l][j][0]\n",
        "      if(val==pred):\n",
        "        ans[l] += lr*scores[l][j][0]\n",
        "      else:\n",
        "        ans[l] += lr*scores[l][j][1]\n",
        "    \n",
        "  cls = np.argmax(list(ans.values()))\n",
        "  predict.append(cls)"
      ],
      "metadata": {
        "id": "aYoQcCiCp4ot"
      },
      "execution_count": null,
      "outputs": []
    },
    {
      "cell_type": "code",
      "source": [
        "print(\"Total Accuracy: \",accuracy_score(predict,test_labels))"
      ],
      "metadata": {
        "colab": {
          "base_uri": "https://localhost:8080/"
        },
        "id": "c4ynF6VEo0O6",
        "outputId": "e38592bc-de30-4225-8674-42af67512bf1"
      },
      "execution_count": null,
      "outputs": [
        {
          "output_type": "stream",
          "name": "stdout",
          "text": [
            "Total Accuracy:  0.5938\n"
          ]
        }
      ]
    },
    {
      "cell_type": "markdown",
      "source": [
        "#Question 2\n",
        "\n",
        "Feed forward Neural Network\n"
      ],
      "metadata": {
        "id": "Wz9vRFWG00ab"
      }
    },
    {
      "cell_type": "code",
      "source": [
        "from keras.models import Sequential\n",
        "from keras.layers import Dense, BatchNormalization\n",
        "from keras import initializers\n",
        "from tensorflow.keras import optimizers\n",
        "from tensorflow.keras.utils import to_categorical"
      ],
      "metadata": {
        "id": "6lPo9cRi7tqm"
      },
      "execution_count": 9,
      "outputs": []
    },
    {
      "cell_type": "code",
      "source": [
        "train = pd.read_csv('/content/drive/MyDrive/datadmg/fashion-mnist_train.csv')\n",
        "train_label = train['label']\n",
        "train = train.drop(['label'],axis=1)\n",
        "train = train.to_numpy()\n",
        "train_label = train_label.to_numpy()\n",
        "print(train.shape)\n",
        "print(train_label.shape)\n",
        "test = pd.read_csv('/content/drive/MyDrive/datadmg/fashion-mnist_test.csv')\n",
        "test_label = test['label']\n",
        "test = test.drop(['label'],axis=1)\n",
        "test = test.to_numpy()\n",
        "test_label = test_label.to_numpy()\n"
      ],
      "metadata": {
        "id": "jS-TMEie046U",
        "colab": {
          "base_uri": "https://localhost:8080/"
        },
        "outputId": "44f1ca39-1103-4c00-ee51-3780392eb919"
      },
      "execution_count": null,
      "outputs": [
        {
          "output_type": "stream",
          "name": "stdout",
          "text": [
            "(60000, 784)\n",
            "(60000,)\n"
          ]
        }
      ]
    },
    {
      "cell_type": "code",
      "source": [
        "model = Sequential()\n",
        "#Input Layer\n",
        "model.add(Dense(256, input_dim = 784, trainable=True,activation='relu',kernel_initializer=initializers.RandomNormal(mean=0.0,stddev=0.5,seed = None)))\n",
        "\n",
        "#Hidden layers\n",
        "model.add(Dense(128, trainable=True,activation='relu',kernel_initializer=initializers.RandomNormal(mean=0.0,stddev=0.5,seed = None)))\n",
        "model.add(Dense(64, trainable=True,activation='relu',kernel_initializer=initializers.RandomNormal(mean=0.0,stddev=0.5,seed = None)))\n",
        "\n",
        "#Add bacth Normalization\n",
        "model.add(BatchNormalization())\n",
        "\n",
        "#Output layer\n",
        "model.add(Dense(10, trainable=True,activation='softmax'))\n",
        "\n",
        "#Optimizer\n",
        "sgd = optimizers.SGD(learning_rate = 0.015, momentum = 0.9)\n",
        "\n",
        "model.compile(optimizer = sgd, loss = 'categorical_crossentropy',metrics = ['accuracy'])\n",
        "\n",
        "model.summary()"
      ],
      "metadata": {
        "colab": {
          "base_uri": "https://localhost:8080/"
        },
        "id": "CgR3JbkG7wzA",
        "outputId": "56df54de-cb64-49d5-bc3a-b17e0953c4f9"
      },
      "execution_count": null,
      "outputs": [
        {
          "output_type": "stream",
          "name": "stdout",
          "text": [
            "Model: \"sequential_2\"\n",
            "_________________________________________________________________\n",
            " Layer (type)                Output Shape              Param #   \n",
            "=================================================================\n",
            " dense_4 (Dense)             (None, 256)               200960    \n",
            "                                                                 \n",
            " dense_5 (Dense)             (None, 128)               32896     \n",
            "                                                                 \n",
            " dense_6 (Dense)             (None, 64)                8256      \n",
            "                                                                 \n",
            " batch_normalization_1 (Batc  (None, 64)               256       \n",
            " hNormalization)                                                 \n",
            "                                                                 \n",
            " dense_7 (Dense)             (None, 10)                650       \n",
            "                                                                 \n",
            "=================================================================\n",
            "Total params: 243,018\n",
            "Trainable params: 242,890\n",
            "Non-trainable params: 128\n",
            "_________________________________________________________________\n"
          ]
        }
      ]
    },
    {
      "cell_type": "code",
      "source": [
        "history = model.fit(train,to_categorical(train_label),epochs=100,batch_size = 256,shuffle=True)"
      ],
      "metadata": {
        "colab": {
          "base_uri": "https://localhost:8080/"
        },
        "id": "SG3314l-GB1o",
        "outputId": "2e2d7a43-b611-4b68-c8eb-852ac1b2a79c"
      },
      "execution_count": null,
      "outputs": [
        {
          "output_type": "stream",
          "name": "stdout",
          "text": [
            "Epoch 1/100\n",
            "235/235 [==============================] - 6s 18ms/step - loss: 0.8395 - accuracy: 0.7078\n",
            "Epoch 2/100\n",
            "235/235 [==============================] - 4s 18ms/step - loss: 0.5643 - accuracy: 0.7983\n",
            "Epoch 3/100\n",
            "235/235 [==============================] - 4s 18ms/step - loss: 0.5137 - accuracy: 0.8168\n",
            "Epoch 4/100\n",
            "235/235 [==============================] - 4s 18ms/step - loss: 0.4851 - accuracy: 0.8274\n",
            "Epoch 5/100\n",
            "235/235 [==============================] - 4s 18ms/step - loss: 0.4647 - accuracy: 0.8346\n",
            "Epoch 6/100\n",
            "235/235 [==============================] - 4s 19ms/step - loss: 0.4561 - accuracy: 0.8377\n",
            "Epoch 7/100\n",
            "235/235 [==============================] - 4s 19ms/step - loss: 0.4391 - accuracy: 0.8426\n",
            "Epoch 8/100\n",
            "235/235 [==============================] - 4s 18ms/step - loss: 0.4280 - accuracy: 0.8473\n",
            "Epoch 9/100\n",
            "235/235 [==============================] - 4s 18ms/step - loss: 0.4176 - accuracy: 0.8509\n",
            "Epoch 10/100\n",
            "235/235 [==============================] - 4s 18ms/step - loss: 0.4100 - accuracy: 0.8532\n",
            "Epoch 11/100\n",
            "235/235 [==============================] - 5s 19ms/step - loss: 0.4021 - accuracy: 0.8568\n",
            "Epoch 12/100\n",
            "235/235 [==============================] - 3s 14ms/step - loss: 0.3952 - accuracy: 0.8585\n",
            "Epoch 13/100\n",
            "235/235 [==============================] - 3s 13ms/step - loss: 0.3897 - accuracy: 0.8601\n",
            "Epoch 14/100\n",
            "235/235 [==============================] - 3s 13ms/step - loss: 0.3843 - accuracy: 0.8622\n",
            "Epoch 15/100\n",
            "235/235 [==============================] - 3s 13ms/step - loss: 0.3805 - accuracy: 0.8637\n",
            "Epoch 16/100\n",
            "235/235 [==============================] - 4s 15ms/step - loss: 0.3739 - accuracy: 0.8653\n",
            "Epoch 17/100\n",
            "235/235 [==============================] - 3s 13ms/step - loss: 0.3693 - accuracy: 0.8676\n",
            "Epoch 18/100\n",
            "235/235 [==============================] - 3s 13ms/step - loss: 0.3653 - accuracy: 0.8692\n",
            "Epoch 19/100\n",
            "235/235 [==============================] - 3s 14ms/step - loss: 0.3599 - accuracy: 0.8716\n",
            "Epoch 20/100\n",
            "235/235 [==============================] - 4s 16ms/step - loss: 0.3568 - accuracy: 0.8721\n",
            "Epoch 21/100\n",
            "235/235 [==============================] - 3s 13ms/step - loss: 0.3534 - accuracy: 0.8737\n",
            "Epoch 22/100\n",
            "235/235 [==============================] - 3s 13ms/step - loss: 0.3501 - accuracy: 0.8741\n",
            "Epoch 23/100\n",
            "235/235 [==============================] - 3s 14ms/step - loss: 0.3457 - accuracy: 0.8761\n",
            "Epoch 24/100\n",
            "235/235 [==============================] - 3s 13ms/step - loss: 0.3427 - accuracy: 0.8764\n",
            "Epoch 25/100\n",
            "235/235 [==============================] - 3s 13ms/step - loss: 0.3388 - accuracy: 0.8773\n",
            "Epoch 26/100\n",
            "235/235 [==============================] - 3s 13ms/step - loss: 0.3360 - accuracy: 0.8798\n",
            "Epoch 27/100\n",
            "235/235 [==============================] - 3s 14ms/step - loss: 0.3335 - accuracy: 0.8785\n",
            "Epoch 28/100\n",
            "235/235 [==============================] - 3s 13ms/step - loss: 0.3299 - accuracy: 0.8810\n",
            "Epoch 29/100\n",
            "235/235 [==============================] - 3s 13ms/step - loss: 0.3273 - accuracy: 0.8821\n",
            "Epoch 30/100\n",
            "235/235 [==============================] - 3s 13ms/step - loss: 0.3242 - accuracy: 0.8827\n",
            "Epoch 31/100\n",
            "235/235 [==============================] - 3s 14ms/step - loss: 0.3223 - accuracy: 0.8830\n",
            "Epoch 32/100\n",
            "235/235 [==============================] - 3s 13ms/step - loss: 0.3185 - accuracy: 0.8841\n",
            "Epoch 33/100\n",
            "235/235 [==============================] - 3s 13ms/step - loss: 0.3166 - accuracy: 0.8857\n",
            "Epoch 34/100\n",
            "235/235 [==============================] - 5s 19ms/step - loss: 0.3141 - accuracy: 0.8857\n",
            "Epoch 35/100\n",
            "235/235 [==============================] - 5s 21ms/step - loss: 0.3109 - accuracy: 0.8872\n",
            "Epoch 36/100\n",
            "235/235 [==============================] - 5s 21ms/step - loss: 0.3077 - accuracy: 0.8893\n",
            "Epoch 37/100\n",
            "235/235 [==============================] - 5s 22ms/step - loss: 0.3068 - accuracy: 0.8900\n",
            "Epoch 38/100\n",
            "235/235 [==============================] - 4s 19ms/step - loss: 0.3043 - accuracy: 0.8888\n",
            "Epoch 39/100\n",
            "235/235 [==============================] - 5s 20ms/step - loss: 0.3015 - accuracy: 0.8901\n",
            "Epoch 40/100\n",
            "235/235 [==============================] - 4s 18ms/step - loss: 0.2994 - accuracy: 0.8912\n",
            "Epoch 41/100\n",
            "235/235 [==============================] - 5s 20ms/step - loss: 0.2975 - accuracy: 0.8914\n",
            "Epoch 42/100\n",
            "235/235 [==============================] - 5s 20ms/step - loss: 0.2952 - accuracy: 0.8922\n",
            "Epoch 43/100\n",
            "235/235 [==============================] - 5s 20ms/step - loss: 0.2924 - accuracy: 0.8937\n",
            "Epoch 44/100\n",
            "235/235 [==============================] - 4s 19ms/step - loss: 0.2901 - accuracy: 0.8952\n",
            "Epoch 45/100\n",
            "235/235 [==============================] - 5s 19ms/step - loss: 0.2895 - accuracy: 0.8944\n",
            "Epoch 46/100\n",
            "235/235 [==============================] - 3s 13ms/step - loss: 0.2870 - accuracy: 0.8962\n",
            "Epoch 47/100\n",
            "235/235 [==============================] - 3s 13ms/step - loss: 0.2853 - accuracy: 0.8966\n",
            "Epoch 48/100\n",
            "235/235 [==============================] - 4s 15ms/step - loss: 0.2819 - accuracy: 0.8981\n",
            "Epoch 49/100\n",
            "235/235 [==============================] - 4s 17ms/step - loss: 0.2810 - accuracy: 0.8989\n",
            "Epoch 50/100\n",
            "235/235 [==============================] - 4s 17ms/step - loss: 0.2800 - accuracy: 0.8985\n",
            "Epoch 51/100\n",
            "235/235 [==============================] - 4s 17ms/step - loss: 0.2778 - accuracy: 0.8993\n",
            "Epoch 52/100\n",
            "235/235 [==============================] - 4s 18ms/step - loss: 0.2745 - accuracy: 0.9004\n",
            "Epoch 53/100\n",
            "235/235 [==============================] - 3s 15ms/step - loss: 0.2739 - accuracy: 0.9002\n",
            "Epoch 54/100\n",
            "235/235 [==============================] - 3s 13ms/step - loss: 0.2710 - accuracy: 0.9010\n",
            "Epoch 55/100\n",
            "235/235 [==============================] - 3s 13ms/step - loss: 0.2695 - accuracy: 0.9016\n",
            "Epoch 56/100\n",
            "235/235 [==============================] - 3s 13ms/step - loss: 0.2681 - accuracy: 0.9015\n",
            "Epoch 57/100\n",
            "235/235 [==============================] - 3s 13ms/step - loss: 0.2653 - accuracy: 0.9033\n",
            "Epoch 58/100\n",
            "235/235 [==============================] - 3s 13ms/step - loss: 0.2632 - accuracy: 0.9035\n",
            "Epoch 59/100\n",
            "235/235 [==============================] - 3s 13ms/step - loss: 0.2620 - accuracy: 0.9050\n",
            "Epoch 60/100\n",
            "235/235 [==============================] - 3s 13ms/step - loss: 0.2601 - accuracy: 0.9057\n",
            "Epoch 61/100\n",
            "235/235 [==============================] - 3s 13ms/step - loss: 0.2586 - accuracy: 0.9058\n",
            "Epoch 62/100\n",
            "235/235 [==============================] - 3s 13ms/step - loss: 0.2577 - accuracy: 0.9056\n",
            "Epoch 63/100\n",
            "235/235 [==============================] - 3s 13ms/step - loss: 0.2553 - accuracy: 0.9070\n",
            "Epoch 64/100\n",
            "235/235 [==============================] - 3s 13ms/step - loss: 0.2529 - accuracy: 0.9079\n",
            "Epoch 65/100\n",
            "235/235 [==============================] - 3s 13ms/step - loss: 0.2521 - accuracy: 0.9092\n",
            "Epoch 66/100\n",
            "235/235 [==============================] - 4s 16ms/step - loss: 0.2496 - accuracy: 0.9083\n",
            "Epoch 67/100\n",
            "235/235 [==============================] - 3s 13ms/step - loss: 0.2501 - accuracy: 0.9086\n",
            "Epoch 68/100\n",
            "235/235 [==============================] - 3s 13ms/step - loss: 0.2476 - accuracy: 0.9087\n",
            "Epoch 69/100\n",
            "235/235 [==============================] - 3s 13ms/step - loss: 0.2453 - accuracy: 0.9108\n",
            "Epoch 70/100\n",
            "235/235 [==============================] - 3s 13ms/step - loss: 0.2440 - accuracy: 0.9100\n",
            "Epoch 71/100\n",
            "235/235 [==============================] - 3s 13ms/step - loss: 0.2425 - accuracy: 0.9123\n",
            "Epoch 72/100\n",
            "235/235 [==============================] - 4s 17ms/step - loss: 0.2412 - accuracy: 0.9122\n",
            "Epoch 73/100\n",
            "235/235 [==============================] - 4s 19ms/step - loss: 0.2383 - accuracy: 0.9135\n",
            "Epoch 74/100\n",
            "235/235 [==============================] - 3s 13ms/step - loss: 0.2381 - accuracy: 0.9129\n",
            "Epoch 75/100\n",
            "235/235 [==============================] - 3s 14ms/step - loss: 0.2361 - accuracy: 0.9139\n",
            "Epoch 76/100\n",
            "235/235 [==============================] - 4s 17ms/step - loss: 0.2344 - accuracy: 0.9153\n",
            "Epoch 77/100\n",
            "235/235 [==============================] - 5s 21ms/step - loss: 0.2333 - accuracy: 0.9146\n",
            "Epoch 78/100\n",
            "235/235 [==============================] - 6s 24ms/step - loss: 0.2314 - accuracy: 0.9152\n",
            "Epoch 79/100\n",
            "235/235 [==============================] - 5s 22ms/step - loss: 0.2296 - accuracy: 0.9165\n",
            "Epoch 80/100\n",
            "235/235 [==============================] - 5s 21ms/step - loss: 0.2278 - accuracy: 0.9168\n",
            "Epoch 81/100\n",
            "235/235 [==============================] - 5s 21ms/step - loss: 0.2271 - accuracy: 0.9178\n",
            "Epoch 82/100\n",
            "235/235 [==============================] - 5s 19ms/step - loss: 0.2259 - accuracy: 0.9185\n",
            "Epoch 83/100\n",
            "235/235 [==============================] - 5s 20ms/step - loss: 0.2258 - accuracy: 0.9172\n",
            "Epoch 84/100\n",
            "235/235 [==============================] - 4s 18ms/step - loss: 0.2219 - accuracy: 0.9196\n",
            "Epoch 85/100\n",
            "235/235 [==============================] - 4s 18ms/step - loss: 0.2206 - accuracy: 0.9195\n",
            "Epoch 86/100\n",
            "235/235 [==============================] - 3s 15ms/step - loss: 0.2192 - accuracy: 0.9196\n",
            "Epoch 87/100\n",
            "235/235 [==============================] - 3s 13ms/step - loss: 0.2191 - accuracy: 0.9198\n",
            "Epoch 88/100\n",
            "235/235 [==============================] - 3s 13ms/step - loss: 0.2176 - accuracy: 0.9204\n",
            "Epoch 89/100\n",
            "235/235 [==============================] - 3s 14ms/step - loss: 0.2159 - accuracy: 0.9212\n",
            "Epoch 90/100\n",
            "235/235 [==============================] - 5s 22ms/step - loss: 0.2156 - accuracy: 0.9209\n",
            "Epoch 91/100\n",
            "235/235 [==============================] - 5s 22ms/step - loss: 0.2114 - accuracy: 0.9230\n",
            "Epoch 92/100\n",
            "235/235 [==============================] - 5s 20ms/step - loss: 0.2126 - accuracy: 0.9223\n",
            "Epoch 93/100\n",
            "235/235 [==============================] - 4s 19ms/step - loss: 0.2101 - accuracy: 0.9233\n",
            "Epoch 94/100\n",
            "235/235 [==============================] - 4s 18ms/step - loss: 0.2100 - accuracy: 0.9224\n",
            "Epoch 95/100\n",
            "235/235 [==============================] - 4s 18ms/step - loss: 0.2089 - accuracy: 0.9234\n",
            "Epoch 96/100\n",
            "235/235 [==============================] - 4s 18ms/step - loss: 0.2055 - accuracy: 0.9249\n",
            "Epoch 97/100\n",
            "235/235 [==============================] - 4s 18ms/step - loss: 0.2056 - accuracy: 0.9254\n",
            "Epoch 98/100\n",
            "235/235 [==============================] - 4s 19ms/step - loss: 0.2038 - accuracy: 0.9254\n",
            "Epoch 99/100\n",
            "235/235 [==============================] - 4s 18ms/step - loss: 0.2027 - accuracy: 0.9256\n",
            "Epoch 100/100\n",
            "235/235 [==============================] - 4s 19ms/step - loss: 0.2009 - accuracy: 0.9266\n"
          ]
        }
      ]
    },
    {
      "cell_type": "code",
      "source": [
        "loss = history.history['loss']\n",
        "plt.plot(loss)\n",
        "plt.xlabel('Epochs')\n",
        "plt.ylabel('Loss')\n",
        "plt.title('Loss per Epoch')\n",
        "plt.show()"
      ],
      "metadata": {
        "colab": {
          "base_uri": "https://localhost:8080/",
          "height": 295
        },
        "id": "ncwbooM0HFq_",
        "outputId": "4e6c59a1-782b-405f-e8f2-47d827050415"
      },
      "execution_count": null,
      "outputs": [
        {
          "output_type": "display_data",
          "data": {
            "text/plain": [
              "<Figure size 432x288 with 1 Axes>"
            ],
            "image/png": "[encoded data removed]"
          },
          "metadata": {
            "needs_background": "light"
          }
        }
      ]
    },
    {
      "cell_type": "code",
      "source": [
        "pred = model.predict(test)\n",
        "pred = np.argmax(pred,axis = 1)\n",
        "\n",
        "accuracy = np.zeros(10)\n",
        "cn = np.zeros(10)\n",
        "\n",
        "for i,j in zip(pred,test_label):\n",
        "  if i == j:\n",
        "    accuracy[j]+=1\n",
        "  cn[j]+=1\n",
        "\n",
        "print(\"Class wise accuracy scores: \",accuracy/cn)"
      ],
      "metadata": {
        "colab": {
          "base_uri": "https://localhost:8080/"
        },
        "id": "NXhJ1vXAHoXD",
        "outputId": "e582bebe-c7ba-431d-ce7a-5c1a625637ba"
      },
      "execution_count": null,
      "outputs": [
        {
          "output_type": "stream",
          "name": "stdout",
          "text": [
            "Class wise accuracy scores:  [0.814 0.983 0.837 0.903 0.831 0.916 0.617 0.931 0.957 0.952]\n"
          ]
        }
      ]
    },
    {
      "cell_type": "code",
      "source": [
        "print(\"Total Accuracy: \",np.sum(accuracy)/np.sum(cn))"
      ],
      "metadata": {
        "colab": {
          "base_uri": "https://localhost:8080/"
        },
        "id": "uZRHDcLTImiS",
        "outputId": "8a5af8e5-5160-49d7-d8a9-d02e090c058f"
      },
      "execution_count": null,
      "outputs": [
        {
          "output_type": "stream",
          "name": "stdout",
          "text": [
            "Total Accuracy:  0.8741\n"
          ]
        }
      ]
    },
    {
      "cell_type": "markdown",
      "source": [
        "#Question 3\n"
      ],
      "metadata": {
        "id": "LaMhPytaJKLK"
      }
    },
    {
      "cell_type": "code",
      "source": [
        "from keras import Input,Model"
      ],
      "metadata": {
        "id": "7D_QsnqOvTzU"
      },
      "execution_count": 5,
      "outputs": []
    },
    {
      "cell_type": "code",
      "source": [
        "#Loading the data\n",
        "from mlxtend.data import loadlocal_mnist\n",
        "x_train, train_labels = loadlocal_mnist(images_path='/content/drive/MyDrive/datadmg/mnist/train-images-idx3-ubyte', labels_path='/content/drive/MyDrive/datadmg/mnist/train-labels-idx1-ubyte')\n",
        "x_test, test_labels = loadlocal_mnist(images_path='/content/drive/MyDrive/datadmg/mnist/t10k-images-idx3-ubyte', labels_path='/content/drive/MyDrive/datadmg/mnist/t10k-labels-idx1-ubyte')\n",
        "print(x_train.shape)\n",
        "print(x_test.shape)"
      ],
      "metadata": {
        "colab": {
          "base_uri": "https://localhost:8080/"
        },
        "id": "LhFu0sJduF-M",
        "outputId": "ae179578-7125-4955-a865-c6d18f8399b8"
      },
      "execution_count": 6,
      "outputs": [
        {
          "output_type": "stream",
          "name": "stdout",
          "text": [
            "(60000, 784)\n",
            "(10000, 784)\n"
          ]
        }
      ]
    },
    {
      "cell_type": "code",
      "source": [
        "def autoencoders(x_train):\n",
        "  input_layer = Input(shape = (784,))\n",
        "  il1 = Dense(512,activation='relu')(input_layer)\n",
        "  il2 = Dense(128,activation='relu')(il1)\n",
        "  il3 = Dense(64,activation='relu')(il2)\n",
        "  ol2 = Dense(128,activation='relu')(il3)\n",
        "  ol1 = Dense(512,activation='relu')(ol2)\n",
        "  output_layer = Dense(784,activation='relu')(ol1)\n",
        "\n",
        "  autoencoder = Model(input_layer,output_layer)\n",
        "  autoencoder.compile(optimizer = optimizers.Adam(learning_rate=0.001, beta_1=0.9, beta_2=0.999,epsilon=1e-8),loss = 'mean_squared_error')\n",
        "  history = autoencoder.fit(x_train,x_train,batch_size=256,epochs=15)\n",
        "\n",
        "  return history.history, autoencoder"
      ],
      "metadata": {
        "id": "PG7u-Wpku2u_"
      },
      "execution_count": 11,
      "outputs": []
    },
    {
      "cell_type": "code",
      "source": [
        "AEhistory, AEmodel = autoencoders(x_train)\n",
        "\n",
        "plt.plot(np.array(AEhistory[\"loss\"])/1000)\n",
        "plt.title('loss')\n",
        "plt.show()"
      ],
      "metadata": {
        "colab": {
          "base_uri": "https://localhost:8080/",
          "height": 791
        },
        "id": "VMliZv8F_cUb",
        "outputId": "3eb417be-69cd-4745-b87b-d4165957d329"
      },
      "execution_count": 12,
      "outputs": [
        {
          "output_type": "stream",
          "name": "stdout",
          "text": [
            "Epoch 1/15\n",
            "235/235 [==============================] - 8s 33ms/step - loss: 2076.3442\n",
            "Epoch 2/15\n",
            "235/235 [==============================] - 8s 32ms/step - loss: 1203.5323\n",
            "Epoch 3/15\n",
            "235/235 [==============================] - 8s 35ms/step - loss: 1080.0507\n",
            "Epoch 4/15\n",
            "235/235 [==============================] - 13s 56ms/step - loss: 1016.4763\n",
            "Epoch 5/15\n",
            "235/235 [==============================] - 8s 33ms/step - loss: 976.0572\n",
            "Epoch 6/15\n",
            "235/235 [==============================] - 8s 32ms/step - loss: 945.9897\n",
            "Epoch 7/15\n",
            "235/235 [==============================] - 10s 43ms/step - loss: 924.0935\n",
            "Epoch 8/15\n",
            "235/235 [==============================] - 8s 34ms/step - loss: 906.9499\n",
            "Epoch 9/15\n",
            "235/235 [==============================] - 12s 53ms/step - loss: 890.5242\n",
            "Epoch 10/15\n",
            "235/235 [==============================] - 8s 36ms/step - loss: 878.4138\n",
            "Epoch 11/15\n",
            "235/235 [==============================] - 8s 33ms/step - loss: 867.5396\n",
            "Epoch 12/15\n",
            "235/235 [==============================] - 8s 32ms/step - loss: 859.6495\n",
            "Epoch 13/15\n",
            "235/235 [==============================] - 8s 32ms/step - loss: 850.5923\n",
            "Epoch 14/15\n",
            "235/235 [==============================] - 8s 33ms/step - loss: 843.4400\n",
            "Epoch 15/15\n",
            "235/235 [==============================] - 7s 31ms/step - loss: 837.0836\n"
          ]
        },
        {
          "output_type": "display_data",
          "data": {
            "text/plain": [
              "<Figure size 432x288 with 1 Axes>"
            ],
            "image/png": "[encoded data removed]"
          },
          "metadata": {
            "needs_background": "light"
          }
        }
      ]
    },
    {
      "cell_type": "code",
      "source": [
        "def NeuralNetwork(x_train, y_train):\n",
        "    input_layer = Input(shape=(784,))\n",
        "    ilayer1 = Dense(512, activation=\"relu\")(input_layer)\n",
        "    ilayer2 = Dense(128, activation=\"relu\")(ilayer1)\n",
        "    ilayer3 = Dense(64, activation=\"relu\")(ilayer2)\n",
        "    ilayer4 = Dense(32, activation=\"relu\")(ilayer3)\n",
        "    output_layer = Dense(10, activation=\"softmax\")(ilayer4)\n",
        "    \n",
        "    model = Model(input_layer, output_layer)\n",
        "    label = np.unique(y_train)\n",
        "    y_train = to_categorical(y_train, len(label))\n",
        "    \n",
        "    model.compile(optimizer = \"adam\", loss = \"categorical_crossentropy\", metrics = [\"accuracy\"])\n",
        "    history = model.fit(x_train, y_train, batch_size = 256, epochs = 20)\n",
        "    \n",
        "    return history.history, model"
      ],
      "metadata": {
        "id": "j_2wEtfnAGBH"
      },
      "execution_count": 13,
      "outputs": []
    },
    {
      "cell_type": "code",
      "source": [
        "NNhistory, NNmodel = NeuralNetwork(x_train, train_labels)\n",
        "\n",
        "plt.plot(NNhistory[\"loss\"])\n",
        "plt.title('loss')\n",
        "plt.show()"
      ],
      "metadata": {
        "colab": {
          "base_uri": "https://localhost:8080/",
          "height": 961
        },
        "id": "h7hhuCTZAIRP",
        "outputId": "ccdebd67-30e4-42b4-a225-4d03a8b96fdc"
      },
      "execution_count": 14,
      "outputs": [
        {
          "output_type": "stream",
          "name": "stdout",
          "text": [
            "Epoch 1/20\n",
            "235/235 [==============================] - 4s 16ms/step - loss: 2.0064 - accuracy: 0.8265\n",
            "Epoch 2/20\n",
            "235/235 [==============================] - 3s 15ms/step - loss: 0.2525 - accuracy: 0.9311\n",
            "Epoch 3/20\n",
            "235/235 [==============================] - 4s 18ms/step - loss: 0.1571 - accuracy: 0.9554\n",
            "Epoch 4/20\n",
            "235/235 [==============================] - 4s 15ms/step - loss: 0.1108 - accuracy: 0.9676\n",
            "Epoch 5/20\n",
            "235/235 [==============================] - 4s 19ms/step - loss: 0.0799 - accuracy: 0.9755\n",
            "Epoch 6/20\n",
            "235/235 [==============================] - 5s 20ms/step - loss: 0.0712 - accuracy: 0.9788\n",
            "Epoch 7/20\n",
            "235/235 [==============================] - 8s 35ms/step - loss: 0.0550 - accuracy: 0.9828\n",
            "Epoch 8/20\n",
            "235/235 [==============================] - 7s 32ms/step - loss: 0.0549 - accuracy: 0.9836\n",
            "Epoch 9/20\n",
            "235/235 [==============================] - 6s 24ms/step - loss: 0.0519 - accuracy: 0.9841\n",
            "Epoch 10/20\n",
            "235/235 [==============================] - 4s 16ms/step - loss: 0.0500 - accuracy: 0.9854\n",
            "Epoch 11/20\n",
            "235/235 [==============================] - 4s 16ms/step - loss: 0.0416 - accuracy: 0.9872\n",
            "Epoch 12/20\n",
            "235/235 [==============================] - 4s 15ms/step - loss: 0.0428 - accuracy: 0.9866\n",
            "Epoch 13/20\n",
            "235/235 [==============================] - 3s 15ms/step - loss: 0.0404 - accuracy: 0.9878\n",
            "Epoch 14/20\n",
            "235/235 [==============================] - 4s 15ms/step - loss: 0.0387 - accuracy: 0.9880\n",
            "Epoch 15/20\n",
            "235/235 [==============================] - 4s 15ms/step - loss: 0.0367 - accuracy: 0.9886\n",
            "Epoch 16/20\n",
            "235/235 [==============================] - 4s 15ms/step - loss: 0.0349 - accuracy: 0.9900\n",
            "Epoch 17/20\n",
            "235/235 [==============================] - 3s 15ms/step - loss: 0.0360 - accuracy: 0.9893\n",
            "Epoch 18/20\n",
            "235/235 [==============================] - 4s 15ms/step - loss: 0.0444 - accuracy: 0.9870\n",
            "Epoch 19/20\n",
            "235/235 [==============================] - 4s 15ms/step - loss: 0.0324 - accuracy: 0.9906\n",
            "Epoch 20/20\n",
            "235/235 [==============================] - 3s 14ms/step - loss: 0.0370 - accuracy: 0.9889\n"
          ]
        },
        {
          "output_type": "display_data",
          "data": {
            "text/plain": [
              "<Figure size 432x288 with 1 Axes>"
            ],
            "image/png": "[encoded data removed]"
          },
          "metadata": {
            "needs_background": "light"
          }
        }
      ]
    },
    {
      "cell_type": "code",
      "source": [
        "from sklearn.metrics import confusion_matrix\n",
        "y_pred = np.argmax(NNmodel.predict(x_test), axis=1)\n",
        "print(accuracy_score(y_pred, test_labels) * 100)\n",
        "\n",
        "cm = confusion_matrix(test_labels, y_pred)\n",
        "class_wise_accuracy = (cm.astype('float') / cm.sum(axis=1)[:, np.newaxis]).diagonal()\n",
        "print(class_wise_accuracy)"
      ],
      "metadata": {
        "colab": {
          "base_uri": "https://localhost:8080/"
        },
        "id": "mdagS7N4AO9q",
        "outputId": "ac35e926-e59f-44ca-97ff-3937f6587d9b"
      },
      "execution_count": 15,
      "outputs": [
        {
          "output_type": "stream",
          "name": "stdout",
          "text": [
            "97.06\n",
            "[0.9877551  0.9938326  0.97383721 0.96534653 0.96537678 0.97982063\n",
            " 0.97703549 0.95914397 0.93326489 0.96828543]\n"
          ]
        }
      ]
    },
    {
      "cell_type": "markdown",
      "source": [
        "#Question 4\n",
        "\n"
      ],
      "metadata": {
        "id": "ydi-sd17JN7u"
      }
    },
    {
      "cell_type": "code",
      "source": [
        "from sklearn.tree import DecisionTreeClassifier\n",
        "import random"
      ],
      "metadata": {
        "id": "TGXHXindKd1h"
      },
      "execution_count": null,
      "outputs": []
    },
    {
      "cell_type": "code",
      "source": [
        "#Loading the data\n",
        "from mlxtend.data import loadlocal_mnist\n",
        "x_train, train_labels = loadlocal_mnist(images_path='/content/drive/MyDrive/datadmg/mnist/train-images-idx3-ubyte', labels_path='/content/drive/MyDrive/datadmg/mnist/train-labels-idx1-ubyte')\n",
        "x_test, test_labels = loadlocal_mnist(images_path='/content/drive/MyDrive/datadmg/mnist/t10k-images-idx3-ubyte', labels_path='/content/drive/MyDrive/datadmg/mnist/t10k-labels-idx1-ubyte')\n",
        "print(x_train.shape)\n",
        "print(x_test.shape)"
      ],
      "metadata": {
        "colab": {
          "base_uri": "https://localhost:8080/"
        },
        "id": "IXRNfA2AJeqy",
        "outputId": "b55022c9-a704-4468-9d4c-7f433a5da42c"
      },
      "execution_count": null,
      "outputs": [
        {
          "output_type": "stream",
          "name": "stdout",
          "text": [
            "(60000, 784)\n",
            "(10000, 784)\n"
          ]
        }
      ]
    },
    {
      "cell_type": "code",
      "source": [
        "trees = []\n",
        "for i in range(3):\n",
        "  sample = np.random.choice(np.arange(x_train.shape[0]),size = x_train.shape[0], replace= True)\n",
        "  x_temp = x_train[sample]\n",
        "  y_temp = train_labels[sample]\n",
        "  tree = DecisionTreeClassifier(max_depth=15,criterion='entropy',class_weight = 'balanced')\n",
        "  tree.fit(x_temp,y_temp)\n",
        "  trees.append(tree)"
      ],
      "metadata": {
        "id": "vE9zvyckKXKL"
      },
      "execution_count": null,
      "outputs": []
    },
    {
      "cell_type": "code",
      "source": [
        "#Find individual accuracy scores for all 3 trees\n",
        "predictions = []\n",
        "for i in range(3):\n",
        "  predictions.append(trees[i].predict(x_test))\n",
        "  print('Testing Accuracy for tree ',i,\" \",accuracy_score(predictions[i],test_labels))\n"
      ],
      "metadata": {
        "colab": {
          "base_uri": "https://localhost:8080/"
        },
        "id": "3JGCrxMvL1Fc",
        "outputId": "e2a9996e-795d-4099-c939-2e451efa3a05"
      },
      "execution_count": null,
      "outputs": [
        {
          "output_type": "stream",
          "name": "stdout",
          "text": [
            "Testing Accuracy for tree  0   0.8674\n",
            "Testing Accuracy for tree  1   0.8719\n",
            "Testing Accuracy for tree  2   0.8683\n"
          ]
        }
      ]
    },
    {
      "cell_type": "code",
      "source": [
        "#Bagging the results\n",
        "final_results = []\n",
        "for i in range(len(test_labels)):\n",
        "  if predictions[0][i] == predictions[1][i]:\n",
        "    final_results.append(predictions[1][i])\n",
        "  elif predictions[0][i] == predictions[2][i]:\n",
        "    final_results.append(predictions[0][i])\n",
        "  elif predictions[1][i] == predictions[2][i]:\n",
        "    final_results.append(predictions[1][i])\n",
        "  else:\n",
        "    final_results.append(random.choice([predictions[0][i],predictions[1][i],predictions[2][i]]))\n",
        "\n",
        "print(\"Accuracy after bagging: \",accuracy_score(final_results,test_labels))\n",
        "\n",
        "accuracy = np.zeros(10)\n",
        "cn = np.zeros(10)\n",
        "for i,j in zip(final_results,test_labels):\n",
        "  if i == j:\n",
        "    accuracy[j] += 1\n",
        "  cn[j]+=1\n",
        "print(\"Classwise accuracy: \",accuracy/cn)\n",
        "  \n",
        "  "
      ],
      "metadata": {
        "colab": {
          "base_uri": "https://localhost:8080/"
        },
        "id": "nVlZZP7NM8Ze",
        "outputId": "0ac1d8ed-9cd3-4ec3-ebbe-b0bac992f3e7"
      },
      "execution_count": null,
      "outputs": [
        {
          "output_type": "stream",
          "name": "stdout",
          "text": [
            "Accuracy after bagging:  0.9027\n",
            "Classwise accuracy:  [0.95204082 0.97444934 0.87790698 0.87326733 0.89816701 0.83632287\n",
            " 0.91649269 0.92217899 0.86344969 0.89692765]\n"
          ]
        }
      ]
    }
  ]
}